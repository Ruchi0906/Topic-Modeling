{
 "cells": [
  {
   "cell_type": "code",
   "execution_count": 1,
   "id": "3e2950db",
   "metadata": {},
   "outputs": [],
   "source": [
    "from warnings import filterwarnings\n",
    "filterwarnings(\"ignore\")\n",
    "from bs4 import BeautifulSoup\n",
    "import requests"
   ]
  },
  {
   "cell_type": "code",
   "execution_count": 2,
   "id": "293a308b",
   "metadata": {},
   "outputs": [],
   "source": [
    "url = \"https://www.ndtv.com/latest/page-\""
   ]
  },
  {
   "cell_type": "code",
   "execution_count": 3,
   "id": "9093872a",
   "metadata": {},
   "outputs": [],
   "source": [
    "urllist = []\n",
    "for i in range(1,6,1):\n",
    "    x = url + str(i)+'/'\n",
    "    urllist.append(x)"
   ]
  },
  {
   "cell_type": "code",
   "execution_count": 4,
   "id": "920f8005",
   "metadata": {
    "scrolled": true
   },
   "outputs": [
    {
     "data": {
      "text/plain": [
       "['https://www.ndtv.com/latest/page-1/',\n",
       " 'https://www.ndtv.com/latest/page-2/',\n",
       " 'https://www.ndtv.com/latest/page-3/',\n",
       " 'https://www.ndtv.com/latest/page-4/',\n",
       " 'https://www.ndtv.com/latest/page-5/']"
      ]
     },
     "execution_count": 4,
     "metadata": {},
     "output_type": "execute_result"
    }
   ],
   "source": [
    "urllist"
   ]
  },
  {
   "cell_type": "markdown",
   "id": "9cc5ae13",
   "metadata": {},
   "source": [
    "# Fetch Headlines and URLs"
   ]
  },
  {
   "cell_type": "code",
   "execution_count": 5,
   "id": "37307d6d",
   "metadata": {},
   "outputs": [],
   "source": [
    "headlines = []\n",
    "URLS = []\n",
    "def fetch_headlines_url(urllist):\n",
    "    for i in urllist:\n",
    "        data = requests.get(i)\n",
    "        soup = BeautifulSoup(data.content,\"html.parser\")\n",
    "        for j in soup.find_all(\"h2\",class_=[\"newsHdng\"]):\n",
    "            headlines.append(j.find(\"a\").text)\n",
    "        for k in soup.find_all(\"h2\",class_=[\"newsHdng\"]):\n",
    "            URLS.append(k.find(\"a\")[\"href\"]) \n",
    "    return headlines,URLS"
   ]
  },
  {
   "cell_type": "code",
   "execution_count": 6,
   "id": "887f73d6",
   "metadata": {},
   "outputs": [],
   "source": [
    "Headlines,urls = fetch_headlines_url(urllist)"
   ]
  },
  {
   "cell_type": "code",
   "execution_count": 7,
   "id": "5359be1d",
   "metadata": {
    "scrolled": true
   },
   "outputs": [
    {
     "data": {
      "text/plain": [
       "75"
      ]
     },
     "execution_count": 7,
     "metadata": {},
     "output_type": "execute_result"
    }
   ],
   "source": [
    "len(Headlines)"
   ]
  },
  {
   "cell_type": "code",
   "execution_count": 8,
   "id": "3a938e8d",
   "metadata": {},
   "outputs": [
    {
     "data": {
      "text/plain": [
       "['https://sports.ndtv.com/football/premier-league-newcastle-uniteds-kieran-trippier-faces-spell-on-sidelines-after-breaking-foot-2768145',\n",
       " 'https://www.ndtv.com/education/jmi-collaborates-germans-diz-train-students-human-wildlife-conflict-mitigation-strategies',\n",
       " 'https://www.ndtv.com/india-news/hijab-row-nitish-kumar-says-hijab-not-an-issue-in-bihar-we-respect-religious-sentiments-2768014',\n",
       " 'https://www.ndtv.com/education/swachh-vidyalaya-puraskar-2021-2022-school-can-apply-till-march-end',\n",
       " 'https://www.ndtv.com/business/coal-india-q3-net-profit-rises-48-to-rs-4-558-cr-2767987']"
      ]
     },
     "execution_count": 8,
     "metadata": {},
     "output_type": "execute_result"
    }
   ],
   "source": [
    "urls[:5]"
   ]
  },
  {
   "cell_type": "markdown",
   "id": "70326470",
   "metadata": {},
   "source": [
    "# Fetch Articles"
   ]
  },
  {
   "cell_type": "code",
   "execution_count": 9,
   "id": "404defc3",
   "metadata": {},
   "outputs": [],
   "source": [
    "def Fetch_articles(urls):\n",
    "    articles = []\n",
    "    for i in urls:\n",
    "        data1 = requests.get(i)\n",
    "        soup1 = BeautifulSoup(data1.content,\"html.parser\")\n",
    "        art = \"\"\n",
    "        for j in soup1.find_all(\"p\"):\n",
    "            art = art + str(j.text)\n",
    "        articles.append(art)\n",
    "    return articles"
   ]
  },
  {
   "cell_type": "code",
   "execution_count": 10,
   "id": "b793879b",
   "metadata": {},
   "outputs": [],
   "source": [
    "Articles = Fetch_articles(urls)"
   ]
  },
  {
   "cell_type": "code",
   "execution_count": 11,
   "id": "46ccacaf",
   "metadata": {
    "scrolled": true
   },
   "outputs": [
    {
     "data": {
      "text/plain": [
       "75"
      ]
     },
     "execution_count": 11,
     "metadata": {},
     "output_type": "execute_result"
    }
   ],
   "source": [
    "len(Articles)"
   ]
  },
  {
   "cell_type": "code",
   "execution_count": 13,
   "id": "f21d838a",
   "metadata": {},
   "outputs": [
    {
     "data": {
      "text/html": [
       "<div>\n",
       "<style scoped>\n",
       "    .dataframe tbody tr th:only-of-type {\n",
       "        vertical-align: middle;\n",
       "    }\n",
       "\n",
       "    .dataframe tbody tr th {\n",
       "        vertical-align: top;\n",
       "    }\n",
       "\n",
       "    .dataframe thead th {\n",
       "        text-align: right;\n",
       "    }\n",
       "</style>\n",
       "<table border=\"1\" class=\"dataframe\">\n",
       "  <thead>\n",
       "    <tr style=\"text-align: right;\">\n",
       "      <th></th>\n",
       "      <th>Headline</th>\n",
       "      <th>News_Article</th>\n",
       "    </tr>\n",
       "  </thead>\n",
       "  <tbody>\n",
       "    <tr>\n",
       "      <th>0</th>\n",
       "      <td>Premier League: Newcastle United's Kieran Trip...</td>\n",
       "      <td>Kieran Trippier has been ruled out of Newcastl...</td>\n",
       "    </tr>\n",
       "    <tr>\n",
       "      <th>1</th>\n",
       "      <td>JMI Collaborates With German’s DIZ To Train St...</td>\n",
       "      <td>SectionsThe AJK Mass Communication Research Ce...</td>\n",
       "    </tr>\n",
       "    <tr>\n",
       "      <th>2</th>\n",
       "      <td>Hijab Not An Issue In Bihar, We Respect Religi...</td>\n",
       "      <td>Hijab Row: Nitish Kumar said \"we should not fo...</td>\n",
       "    </tr>\n",
       "    <tr>\n",
       "      <th>3</th>\n",
       "      <td>Swachh Vidyalaya Puraskar 2021-2022: School Ca...</td>\n",
       "      <td>SectionsThe Department of School Education and...</td>\n",
       "    </tr>\n",
       "    <tr>\n",
       "      <th>4</th>\n",
       "      <td>Coal India December Quarter Profit Rises 48% T...</td>\n",
       "      <td>Coal India reported 48 per cent jump in its th...</td>\n",
       "    </tr>\n",
       "    <tr>\n",
       "      <th>...</th>\n",
       "      <td>...</td>\n",
       "      <td>...</td>\n",
       "    </tr>\n",
       "    <tr>\n",
       "      <th>70</th>\n",
       "      <td>Yogurt And Strawberry: Nmami Agarwal Shares He...</td>\n",
       "      <td>We love eating and experimenting with food. At...</td>\n",
       "    </tr>\n",
       "    <tr>\n",
       "      <th>71</th>\n",
       "      <td>Kareena Kapoor Khan Celebrates Valentine's Day...</td>\n",
       "      <td>Valentine's Day is being celebrated all over t...</td>\n",
       "    </tr>\n",
       "    <tr>\n",
       "      <th>72</th>\n",
       "      <td>Intel's Crypto Mining Accelerator Is 1,000 Tim...</td>\n",
       "      <td>Photo Credit: Intel Corp.​Intel’s blockchain a...</td>\n",
       "    </tr>\n",
       "    <tr>\n",
       "      <th>73</th>\n",
       "      <td>Sensex Crashes 1,747 Points Amid Global Sell-O...</td>\n",
       "      <td>The overall market breadth stood extremely wea...</td>\n",
       "    </tr>\n",
       "    <tr>\n",
       "      <th>74</th>\n",
       "      <td>The Lord of the Rings: The Rings of Power Trai...</td>\n",
       "      <td>Photo Credit: Amazon Prime VideoYoung version ...</td>\n",
       "    </tr>\n",
       "  </tbody>\n",
       "</table>\n",
       "<p>75 rows × 2 columns</p>\n",
       "</div>"
      ],
      "text/plain": [
       "                                             Headline  \\\n",
       "0   Premier League: Newcastle United's Kieran Trip...   \n",
       "1   JMI Collaborates With German’s DIZ To Train St...   \n",
       "2   Hijab Not An Issue In Bihar, We Respect Religi...   \n",
       "3   Swachh Vidyalaya Puraskar 2021-2022: School Ca...   \n",
       "4   Coal India December Quarter Profit Rises 48% T...   \n",
       "..                                                ...   \n",
       "70  Yogurt And Strawberry: Nmami Agarwal Shares He...   \n",
       "71  Kareena Kapoor Khan Celebrates Valentine's Day...   \n",
       "72  Intel's Crypto Mining Accelerator Is 1,000 Tim...   \n",
       "73  Sensex Crashes 1,747 Points Amid Global Sell-O...   \n",
       "74  The Lord of the Rings: The Rings of Power Trai...   \n",
       "\n",
       "                                         News_Article  \n",
       "0   Kieran Trippier has been ruled out of Newcastl...  \n",
       "1   SectionsThe AJK Mass Communication Research Ce...  \n",
       "2   Hijab Row: Nitish Kumar said \"we should not fo...  \n",
       "3   SectionsThe Department of School Education and...  \n",
       "4   Coal India reported 48 per cent jump in its th...  \n",
       "..                                                ...  \n",
       "70  We love eating and experimenting with food. At...  \n",
       "71  Valentine's Day is being celebrated all over t...  \n",
       "72  Photo Credit: Intel Corp.​Intel’s blockchain a...  \n",
       "73  The overall market breadth stood extremely wea...  \n",
       "74  Photo Credit: Amazon Prime VideoYoung version ...  \n",
       "\n",
       "[75 rows x 2 columns]"
      ]
     },
     "execution_count": 13,
     "metadata": {},
     "output_type": "execute_result"
    }
   ],
   "source": [
    "import pandas as pd\n",
    "Q = pd.DataFrame([headlines,Articles]).T\n",
    "Q.columns = [\"Headline\",\"News_Article\"]\n",
    "Q"
   ]
  },
  {
   "cell_type": "markdown",
   "id": "252348a7",
   "metadata": {},
   "source": [
    "# Preprocessing"
   ]
  },
  {
   "cell_type": "code",
   "execution_count": 30,
   "id": "d6e35a18",
   "metadata": {},
   "outputs": [],
   "source": [
    "from nltk.stem import PorterStemmer\n",
    "ps = PorterStemmer()\n",
    "from nltk.stem import WordNetLemmatizer\n",
    "wnl = WordNetLemmatizer()\n",
    "p_art =[]\n",
    "for i in Articles:\n",
    "    q = i.upper()\n",
    "    import re\n",
    "    q = re.sub(\"[^A-Z0-9 ]\",\"\",q)\n",
    "    tk_q = q.split(\" \")\n",
    "    sent = \"\"\n",
    "    for j in tk_q:\n",
    "        sent = sent + \" \" + wnl.lemmatize(ps.stem(j)).upper()\n",
    "    p_art.append(sent)"
   ]
  },
  {
   "cell_type": "markdown",
   "id": "291a6807",
   "metadata": {},
   "source": [
    "# Feature Extraction"
   ]
  },
  {
   "cell_type": "code",
   "execution_count": 32,
   "id": "2b06ada1",
   "metadata": {},
   "outputs": [],
   "source": [
    "from sklearn.feature_extraction.text import TfidfVectorizer\n",
    "tfidf = TfidfVectorizer(stop_words=\"english\")\n",
    "X  = tfidf.fit_transform(p_art).toarray()"
   ]
  },
  {
   "cell_type": "code",
   "execution_count": 33,
   "id": "a0443b06",
   "metadata": {},
   "outputs": [
    {
     "data": {
      "text/plain": [
       "array([[0.        , 0.        , 0.        , ..., 0.        , 0.        ,\n",
       "        0.        ],\n",
       "       [0.        , 0.        , 0.        , ..., 0.        , 0.10626616,\n",
       "        0.        ],\n",
       "       [0.        , 0.        , 0.        , ..., 0.        , 0.        ,\n",
       "        0.        ],\n",
       "       ...,\n",
       "       [0.        , 0.03058763, 0.03058763, ..., 0.        , 0.        ,\n",
       "        0.        ],\n",
       "       [0.        , 0.        , 0.        , ..., 0.        , 0.        ,\n",
       "        0.        ],\n",
       "       [0.        , 0.0268979 , 0.0268979 , ..., 0.        , 0.        ,\n",
       "        0.04994607]])"
      ]
     },
     "execution_count": 33,
     "metadata": {},
     "output_type": "execute_result"
    }
   ],
   "source": [
    "X"
   ]
  },
  {
   "cell_type": "markdown",
   "id": "9d482363",
   "metadata": {},
   "source": [
    "# Kmeans Clustering"
   ]
  },
  {
   "cell_type": "code",
   "execution_count": 63,
   "id": "d0a0488c",
   "metadata": {},
   "outputs": [],
   "source": [
    "from sklearn.cluster import KMeans\n",
    "km = KMeans(n_clusters=3)\n",
    "model = km.fit(X)"
   ]
  },
  {
   "cell_type": "code",
   "execution_count": 64,
   "id": "01444ff7",
   "metadata": {},
   "outputs": [
    {
     "data": {
      "text/plain": [
       "array([0, 2, 1, 2, 1, 1, 1, 1, 0, 1, 0, 0, 1, 2, 1, 1, 1, 1, 2, 0, 0, 0,\n",
       "       1, 1, 1, 1, 0, 1, 1, 2, 2, 0, 1, 1, 0, 0, 1, 1, 1, 1, 1, 0, 1, 2,\n",
       "       1, 1, 2, 0, 0, 1, 1, 0, 1, 1, 0, 1, 2, 1, 0, 2, 0, 0, 2, 0, 1, 0,\n",
       "       0, 0, 2, 0, 1, 1, 0, 1, 0])"
      ]
     },
     "execution_count": 64,
     "metadata": {},
     "output_type": "execute_result"
    }
   ],
   "source": [
    "model.labels_"
   ]
  },
  {
   "cell_type": "code",
   "execution_count": 65,
   "id": "10e02640",
   "metadata": {},
   "outputs": [
    {
     "data": {
      "text/plain": [
       "75"
      ]
     },
     "execution_count": 65,
     "metadata": {},
     "output_type": "execute_result"
    }
   ],
   "source": [
    "len(headlines)"
   ]
  },
  {
   "cell_type": "code",
   "execution_count": 55,
   "id": "d21ecfef",
   "metadata": {},
   "outputs": [
    {
     "data": {
      "text/plain": [
       "array([[2133, 1076, 4480, 3813, 3368, 2129, 4115, 4808, 3970, 4148, 4232,\n",
       "        2495, 2882, 4330, 3796, 3158, 3990, 1424, 4646, 2636, 2512, 1737,\n",
       "         390, 5025, 2763, 1843, 1259, 3077, 3397, 2126, 2703,  391, 2282,\n",
       "        3185, 2690, 1425,  563, 2136, 3754, 5158],\n",
       "       [4267, 1792, 1857, 2692, 1185, 1811, 1740,  463, 4674,  628,  629,\n",
       "        2332, 2544, 1229, 3486, 5379, 1370, 5077,  152, 2429, 3583, 1858,\n",
       "        4824, 1948, 3033, 3499, 3466, 1093,  470, 4801, 3833,   41, 2567,\n",
       "        1090, 1363, 1973,   29, 2152, 5245, 1044],\n",
       "       [2639, 5208, 1398, 2348, 4189,  152, 5072, 2959, 2875,  722, 2269,\n",
       "        4856, 3191, 3343, 3738, 4276, 3280, 3492, 4802, 5310, 1300, 4794,\n",
       "        3368, 1143, 2495, 2048, 4367, 4517, 1755, 2140, 2212, 2490, 5284,\n",
       "        2836,  969, 2939, 4922, 3876,  754, 2049]], dtype=int64)"
      ]
     },
     "execution_count": 55,
     "metadata": {},
     "output_type": "execute_result"
    }
   ],
   "source": [
    "model.cluster_centers_.argsort()[:,:-41:-1]"
   ]
  },
  {
   "cell_type": "code",
   "execution_count": 56,
   "id": "4c99bf24",
   "metadata": {},
   "outputs": [],
   "source": [
    "q1 =tfidf.get_feature_names()"
   ]
  },
  {
   "cell_type": "code",
   "execution_count": 72,
   "id": "abf4e0a6",
   "metadata": {},
   "outputs": [],
   "source": [
    "#q1"
   ]
  },
  {
   "cell_type": "markdown",
   "id": "d0329931",
   "metadata": {},
   "source": [
    "# Top terms per cluster"
   ]
  },
  {
   "cell_type": "code",
   "execution_count": 68,
   "id": "65d8df05",
   "metadata": {},
   "outputs": [
    {
     "name": "stdout",
     "output_type": "stream",
     "text": [
      "0      ipl,cricket,updat,auction,2022,score,latest,new,android,app,topic,twitter,wi,ind,ha,zoom,mention,ndtv,facebook,download,sport,thi,like,team,ring,schedul,check,smartphon,realm,game,bowl,gadget,mg,redmi,cent,india,australia,hi,oneplu,articl\n",
      "1      wa,said,minist,hi,ha,tata,live,mr,india,congress,chief,latest,post,new,share,thi,govern,elect,gandhi,kumar,ayci,budget,punjab,polic,cent,health,day,special,case,food,taken,airlin,coverag,2022watch,ndtvcom,newsfollow,advertis,peopl,woman,ukrain\n",
      "2      school,engin,exam,jee,class,entranc,educ,admiss,student,institut,help,colleg,appli,cours,upje,paper,examin,2022,applic,main,offici,cgso,advanc,teacher,programm,earthquak,test,cet,counsel,inform,gate,websit,career,12,open,held,februari,access,endeavor,path\n"
     ]
    }
   ],
   "source": [
    "common_words = model.cluster_centers_.argsort()[:,:-41:-1]\n",
    "for num,centroid in enumerate(common_words):\n",
    "    print(num,\"     \"+ ','.join(q1[word] for word in centroid))"
   ]
  },
  {
   "cell_type": "markdown",
   "id": "79765547",
   "metadata": {},
   "source": [
    "# Identify Topics"
   ]
  },
  {
   "cell_type": "code",
   "execution_count": 59,
   "id": "17b64b91",
   "metadata": {},
   "outputs": [],
   "source": [
    "from sklearn.decomposition import NMF\n",
    "nm = NMF(n_components=3, random_state=31)\n",
    "model = nm.fit(X)"
   ]
  },
  {
   "cell_type": "code",
   "execution_count": 71,
   "id": "b0e5ecb7",
   "metadata": {},
   "outputs": [
    {
     "name": "stdout",
     "output_type": "stream",
     "text": [
      "Following article belongs to cluster name [0]\n"
     ]
    }
   ],
   "source": [
    "new_articles = [\"ipl 2022 auction\"]\n",
    "q = nm.transform(tfidf.transform(new_articles)).argsort()[:,-1]\n",
    "print(\"Following article belongs to cluster name\",q)\n"
   ]
  },
  {
   "cell_type": "code",
   "execution_count": null,
   "id": "4b496107",
   "metadata": {},
   "outputs": [],
   "source": []
  }
 ],
 "metadata": {
  "kernelspec": {
   "display_name": "Python 3",
   "language": "python",
   "name": "python3"
  },
  "language_info": {
   "codemirror_mode": {
    "name": "ipython",
    "version": 3
   },
   "file_extension": ".py",
   "mimetype": "text/x-python",
   "name": "python",
   "nbconvert_exporter": "python",
   "pygments_lexer": "ipython3",
   "version": "3.8.8"
  }
 },
 "nbformat": 4,
 "nbformat_minor": 5
}
